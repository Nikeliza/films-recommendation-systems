{
 "cells": [
  {
   "cell_type": "code",
   "execution_count": 2,
   "metadata": {
    "colab": {
     "base_uri": "https://localhost:8080/"
    },
    "collapsed": true,
    "id": "cOZ8FLtWRF0f",
    "outputId": "33fd1edc-98c0-4a65-f8ac-dc18d3703803"
   },
   "outputs": [],
   "source": [
    "#!pip install pyspark"
   ]
  },
  {
   "cell_type": "code",
   "execution_count": 3,
   "metadata": {
    "collapsed": true,
    "id": "c0n_TjgGSihT"
   },
   "outputs": [],
   "source": [
    "from pyspark import SparkContext\n",
    "from pyspark.sql import SparkSession\n"
   ]
  },
  {
   "cell_type": "code",
   "execution_count": 4,
   "metadata": {
    "collapsed": true,
    "id": "UMuPARC6TCYM"
   },
   "outputs": [],
   "source": [
    "spark = SparkSession.builder.master('yarn-client').appName(\"mobod dz1\").getOrCreate()"
   ]
  },
  {
   "cell_type": "code",
   "execution_count": 5,
   "metadata": {
    "collapsed": true,
    "id": "Y06t17uKSlPf"
   },
   "outputs": [],
   "source": [
    "'''url_ratings = \"https://raw.githubusercontent.com/HaykInanc/move_data/master/ratings.csv\"\n",
    "url_movies = \"https://raw.githubusercontent.com/HaykInanc/move_data/master/movies.csv\"\n",
    "from pyspark import SparkFiles\n",
    "spark.sparkContext.addFile(url_ratings)\n",
    "spark.sparkContext.addFile(url_movies)\n",
    "\n",
    "#df_ratings = spark.read.csv(SparkFiles.get(\"ratings.csv\"), header=True, inferSchema= True)\n",
    "#df_movies = spark.read.csv(SparkFiles.get(\"movies.csv\"), header=True, inferSchema= True)'''\n",
    "df_ratings = spark.read.csv(\"/data/mobod2020/movielens/ratings.csv\", header=True, inferSchema= True)\n",
    "df_movies = spark.read.csv(\"/data/mobod2020/movielens/movies.csv\", header=True, inferSchema= True)\n"
   ]
  },
  {
   "cell_type": "code",
   "execution_count": 6,
   "metadata": {
    "colab": {
     "base_uri": "https://localhost:8080/"
    },
    "id": "7sCOjTnTS-59",
    "outputId": "9557fa65-cade-478e-a548-8d3fbad18be0"
   },
   "outputs": [
    {
     "name": "stdout",
     "output_type": "stream",
     "text": [
      "+------+-------+------+----------+\n",
      "|userId|movieId|rating| timestamp|\n",
      "+------+-------+------+----------+\n",
      "|     1|     31|   2.5|1260759144|\n",
      "|     1|   1029|   3.0|1260759179|\n",
      "|     1|   1061|   3.0|1260759182|\n",
      "|     1|   1129|   2.0|1260759185|\n",
      "|     1|   1172|   4.0|1260759205|\n",
      "|     1|   1263|   2.0|1260759151|\n",
      "|     1|   1287|   2.0|1260759187|\n",
      "|     1|   1293|   2.0|1260759148|\n",
      "|     1|   1339|   3.5|1260759125|\n",
      "|     1|   1343|   2.0|1260759131|\n",
      "|     1|   1371|   2.5|1260759135|\n",
      "|     1|   1405|   1.0|1260759203|\n",
      "|     1|   1953|   4.0|1260759191|\n",
      "|     1|   2105|   4.0|1260759139|\n",
      "|     1|   2150|   3.0|1260759194|\n",
      "|     1|   2193|   2.0|1260759198|\n",
      "|     1|   2294|   2.0|1260759108|\n",
      "|     1|   2455|   2.5|1260759113|\n",
      "|     1|   2968|   1.0|1260759200|\n",
      "|     1|   3671|   3.0|1260759117|\n",
      "+------+-------+------+----------+\n",
      "only showing top 20 rows\n",
      "\n",
      "+-------+--------------------+--------------------+\n",
      "|movieId|               title|              genres|\n",
      "+-------+--------------------+--------------------+\n",
      "|      1|    Toy Story (1995)|Adventure|Animati...|\n",
      "|      2|      Jumanji (1995)|Adventure|Childre...|\n",
      "|      3|Grumpier Old Men ...|      Comedy|Romance|\n",
      "|      4|Waiting to Exhale...|Comedy|Drama|Romance|\n",
      "|      5|Father of the Bri...|              Comedy|\n",
      "|      6|         Heat (1995)|Action|Crime|Thri...|\n",
      "|      7|      Sabrina (1995)|      Comedy|Romance|\n",
      "|      8| Tom and Huck (1995)|  Adventure|Children|\n",
      "|      9| Sudden Death (1995)|              Action|\n",
      "|     10|    GoldenEye (1995)|Action|Adventure|...|\n",
      "|     11|American Presiden...|Comedy|Drama|Romance|\n",
      "|     12|Dracula: Dead and...|       Comedy|Horror|\n",
      "|     13|        Balto (1995)|Adventure|Animati...|\n",
      "|     14|        Nixon (1995)|               Drama|\n",
      "|     15|Cutthroat Island ...|Action|Adventure|...|\n",
      "|     16|       Casino (1995)|         Crime|Drama|\n",
      "|     17|Sense and Sensibi...|       Drama|Romance|\n",
      "|     18|   Four Rooms (1995)|              Comedy|\n",
      "|     19|Ace Ventura: When...|              Comedy|\n",
      "|     20|  Money Train (1995)|Action|Comedy|Cri...|\n",
      "+-------+--------------------+--------------------+\n",
      "only showing top 20 rows\n",
      "\n"
     ]
    }
   ],
   "source": [
    "df_ratings.show()\n",
    "df_movies.show()"
   ]
  },
  {
   "cell_type": "code",
   "execution_count": 7,
   "metadata": {
    "collapsed": true,
    "id": "EzXP5AdgTaWx"
   },
   "outputs": [],
   "source": [
    "import pyspark.sql.functions as F\n",
    "import pyspark.sql.types as T\n",
    "from pyspark.sql.functions import udf\n",
    "from pyspark.sql.window import Window"
   ]
  },
  {
   "cell_type": "code",
   "execution_count": 8,
   "metadata": {
    "colab": {
     "base_uri": "https://localhost:8080/"
    },
    "id": "xK6AzrFW7FPQ",
    "outputId": "d999d6c2-8fbd-4c83-96e8-a98d81697527"
   },
   "outputs": [
    {
     "name": "stdout",
     "output_type": "stream",
     "text": [
      "+------+-------+------+----+\n",
      "|userId|movieId|rating|rank|\n",
      "+------+-------+------+----+\n",
      "|   177|   1784|   4.0|   1|\n",
      "|   564|    926|   5.0|   2|\n",
      "|   479|  54503|   5.0|   3|\n",
      "|   561|    377|   3.0|   4|\n",
      "|   353|    165|   3.5|   5|\n",
      "|   633|    380|   2.0|   6|\n",
      "|   124|   3066|   3.5|   7|\n",
      "|   461|   3418|   4.0|   8|\n",
      "|   152|   7502|   5.0|   9|\n",
      "|   394|   3996|   2.5|  10|\n",
      "|   609|    569|   1.0|  11|\n",
      "|    93|    457|   4.0|  12|\n",
      "|    23|  42418|   3.5|  13|\n",
      "|   671|   2401|   4.0|  14|\n",
      "|   236|   7943|   4.5|  15|\n",
      "|   311|   7059|   3.5|  16|\n",
      "|   212|  54190|   4.5|  17|\n",
      "|   119|   1097|   4.0|  18|\n",
      "|    56|  74416|   4.0|  19|\n",
      "|   574|  53322|   3.0|  20|\n",
      "+------+-------+------+----+\n",
      "only showing top 20 rows\n",
      "\n"
     ]
    },
    {
     "data": {
      "text/plain": [
       "100004"
      ]
     },
     "execution_count": 8,
     "metadata": {},
     "output_type": "execute_result"
    }
   ],
   "source": [
    "#Сортируем все записи в случайном порядке\n",
    "\n",
    "windowSpec  = Window.partitionBy().orderBy(\"random\")\n",
    "df_train_test = (df_ratings.withColumn('random', F.rand())\n",
    "                 .withColumn('rank', F.row_number().over(windowSpec))\n",
    "                 .drop('random', 'timestamp')\n",
    "                )\n",
    "df_train_test.show()\n",
    "df_train_test.count()\n"
   ]
  },
  {
   "cell_type": "code",
   "execution_count": 9,
   "metadata": {
    "colab": {
     "base_uri": "https://localhost:8080/"
    },
    "id": "csvx_13KAOjN",
    "outputId": "137683a8-25a4-423b-a17f-c8ee846279ad"
   },
   "outputs": [
    {
     "name": "stdout",
     "output_type": "stream",
     "text": [
      "+------+-------+------+\n",
      "|userId|movieId|rating|\n",
      "+------+-------+------+\n",
      "|   177|   1784|   4.0|\n",
      "|   564|    926|   5.0|\n",
      "|   479|  54503|   5.0|\n",
      "|   561|    377|   3.0|\n",
      "|   353|    165|   3.5|\n",
      "|   633|    380|   2.0|\n",
      "|   124|   3066|   3.5|\n",
      "|   461|   3418|   4.0|\n",
      "|   152|   7502|   5.0|\n",
      "|   394|   3996|   2.5|\n",
      "|   609|    569|   1.0|\n",
      "|    93|    457|   4.0|\n",
      "|    23|  42418|   3.5|\n",
      "|   671|   2401|   4.0|\n",
      "|   236|   7943|   4.5|\n",
      "|   311|   7059|   3.5|\n",
      "|   212|  54190|   4.5|\n",
      "|   119|   1097|   4.0|\n",
      "|    56|  74416|   4.0|\n",
      "|   574|  53322|   3.0|\n",
      "+------+-------+------+\n",
      "only showing top 20 rows\n",
      "\n"
     ]
    },
    {
     "data": {
      "text/plain": [
       "70002"
      ]
     },
     "execution_count": 9,
     "metadata": {},
     "output_type": "execute_result"
    }
   ],
   "source": [
    "#Выделяем обучающую выборку\n",
    "df_train_without_group = df_train_test.where(F.col('rank') < df_train_test.count()*0.7).drop('rank')\n",
    "df_train_without_group.show()\n",
    "df_train_without_group.count()"
   ]
  },
  {
   "cell_type": "code",
   "execution_count": 10,
   "metadata": {
    "colab": {
     "base_uri": "https://localhost:8080/"
    },
    "id": "PzBsGO1NBH_D",
    "outputId": "dfc5e376-6314-419f-d9f7-d7189186a335"
   },
   "outputs": [
    {
     "name": "stdout",
     "output_type": "stream",
     "text": [
      "+------+-------+------+\n",
      "|userId|movieId|rating|\n",
      "+------+-------+------+\n",
      "|   547|  71464|   3.5|\n",
      "|   427| 103980|   3.5|\n",
      "|   547|   8903|   3.5|\n",
      "|   245|   1747|   4.0|\n",
      "|   571|    546|   2.5|\n",
      "|   358|    953|   5.0|\n",
      "|   491|   1701|   5.0|\n",
      "|   387|    428|   5.0|\n",
      "|   294|   6358|   4.0|\n",
      "|   412|    662|   1.0|\n",
      "|   547| 101904|   3.5|\n",
      "|    83|   3087|   3.5|\n",
      "|   287| 102880|   0.5|\n",
      "|   165|   8367|   2.0|\n",
      "|   303|    508|   3.0|\n",
      "|   472|   5010|   3.0|\n",
      "|   494|   2947|   4.0|\n",
      "|   664|   5574|   3.0|\n",
      "|   551|   1085|   1.0|\n",
      "|   471|   1080|   4.5|\n",
      "+------+-------+------+\n",
      "only showing top 20 rows\n",
      "\n"
     ]
    },
    {
     "data": {
      "text/plain": [
       "30002"
      ]
     },
     "execution_count": 10,
     "metadata": {},
     "output_type": "execute_result"
    }
   ],
   "source": [
    "#выделяем тестирующую выборку\n",
    "df_test = df_train_test.where(F.col('rank') >= df_train_test.count()*0.7).drop('rank')\n",
    "df_test.show()\n",
    "df_test.count()"
   ]
  },
  {
   "cell_type": "code",
   "execution_count": 11,
   "metadata": {
    "colab": {
     "base_uri": "https://localhost:8080/"
    },
    "id": "t8if0rtBip3k",
    "outputId": "40aa5fa9-b558-4f6e-cfee-9bdad0932266"
   },
   "outputs": [
    {
     "name": "stdout",
     "output_type": "stream",
     "text": [
      "+------+--------------------+\n",
      "|userId|          moviesList|\n",
      "+------+--------------------+\n",
      "|     1|[2968 -> 1.0, 140...|\n",
      "|     2|[371 -> 3.0, 593 ...|\n",
      "|     3|[27369 -> 3.5, 50...|\n",
      "|     4|[1257 -> 5.0, 279...|\n",
      "|     5|[30793 -> 3.5, 22...|\n",
      "|     6|[8368 -> 3.5, 207...|\n",
      "|     7|[1 -> 3.0, 198 ->...|\n",
      "|     8|[4262 -> 4.0, 520...|\n",
      "|     9|[2273 -> 3.0, 257...|\n",
      "|    10|[1240 -> 4.0, 240...|\n",
      "|    11|[96079 -> 4.0, 92...|\n",
      "|    12|[3793 -> 5.0, 737...|\n",
      "|    13|[6377 -> 4.5, 356...|\n",
      "|    14|[2716 -> 3.0, 119...|\n",
      "|    15|[3786 -> 2.0, 82 ...|\n",
      "|    16|[50 -> 4.5, 4718 ...|\n",
      "|    17|[288 -> 2.0, 1674...|\n",
      "|    18|[141 -> 4.0, 36 -...|\n",
      "|    19|[10 -> 3.0, 519 -...|\n",
      "|    20|[1207 -> 4.0, 527...|\n",
      "+------+--------------------+\n",
      "only showing top 20 rows\n",
      "\n"
     ]
    }
   ],
   "source": [
    "#представляем рейтинги для каждого пользователя из обучающей выборки в виде словаря\n",
    "df_train = (df_train_without_group.groupBy('userId')\n",
    "            .agg(F.map_from_entries(F.collect_list(F.struct(\"movieId\",\"rating\"))))\n",
    "            .withColumnRenamed('map_from_entries(collect_list(named_struct(NamePlaceholder(), movieId, NamePlaceholder(), rating)))', 'moviesList')\n",
    "           )\n",
    "df_train.show()"
   ]
  },
  {
   "cell_type": "code",
   "execution_count": 12,
   "metadata": {
    "collapsed": true,
    "id": "t5fV23Ahk5xk"
   },
   "outputs": [],
   "source": [
    "def cos_distance(x1, x2):\n",
    "  chisl = sum([x1[i] * x2[i] for i in x1.keys() if i in x2.keys()])\n",
    "  znam1 = sum([x1[i] ** 2 for i in x1.keys()]) ** 0.5\n",
    "  znam2 = sum([x2[i] ** 2 for i in x2.keys()]) ** 0.5\n",
    "  return chisl / (znam1 * znam2)\n",
    "\n",
    "cos_d_udf = F.udf(cos_distance, T.FloatType())\n"
   ]
  },
  {
   "cell_type": "code",
   "execution_count": 13,
   "metadata": {
    "id": "LtZGqf3Du-oq"
   },
   "outputs": [
    {
     "name": "stdout",
     "output_type": "stream",
     "text": [
      "+------+-------+-----------+-------+------+----------+\n",
      "|userId|userId2|      cos_d|movieId|rating|get_rating|\n",
      "+------+-------+-----------+-------+------+----------+\n",
      "|    15|    388| 0.28023785|     14|   2.5|       4.0|\n",
      "|    15|    102| 0.25200295|     14|   2.5|       4.0|\n",
      "|    15|     30| 0.24700521|     14|   2.5|       4.0|\n",
      "|    15|     19| 0.20279224|     14|   2.5|       5.0|\n",
      "|    15|    311|  0.1876002|     14|   2.5|       3.0|\n",
      "|    15|    659| 0.14234966|     14|   2.5|       4.0|\n",
      "|    15|    588| 0.11297533|     14|   2.5|       3.0|\n",
      "|    15|     86|0.096564315|     14|   2.5|       4.0|\n",
      "|    15|    390|0.086217634|     14|   2.5|       2.0|\n",
      "|    15|    266|0.076672174|     14|   2.5|       4.0|\n",
      "|    15|    383| 0.06875245|     14|   2.5|       3.0|\n",
      "|    15|     70| 0.06832393|     14|   2.5|       3.0|\n",
      "|    15|    490|0.061814424|     14|   2.5|       3.0|\n",
      "|    15|    284|0.060495175|     14|   2.5|       3.0|\n",
      "|    15|    459|0.045762543|     14|   2.5|       4.0|\n",
      "|    15|    341|0.033764478|     14|   2.5|       4.0|\n",
      "|    15|    580| 0.31781965|   1199|   1.0|       4.5|\n",
      "|    15|    472| 0.27923664|   1199|   1.0|       5.0|\n",
      "|    15|    468| 0.27669284|   1199|   1.0|       4.0|\n",
      "|    15|    547|  0.2738671|   1199|   1.0|       4.0|\n",
      "+------+-------+-----------+-------+------+----------+\n",
      "only showing top 20 rows\n",
      "\n"
     ]
    }
   ],
   "source": [
    "#считаем косинусное расстояние для каждой пары у которых не равны Id пользователей\n",
    "#Для каждого пользователя из тестовой выборки получаем всех пользователей из обучающей\n",
    "#Восстанавливаем рейтинг из обучающей выборки\n",
    "#Оставляем двадцать самых похожих пользователей для каждого пользователя из тестовой\n",
    "#\n",
    "#На этом этапе теряются пользователи у которых нет не одной оценки в обучающей выборке\n",
    "#А также фильмы которые в обучающей выборке никто не оценил\n",
    "#Для них оценки посчитаем позже\n",
    "\n",
    "df_ = df_train.withColumnRenamed('userId', 'userId2').withColumnRenamed('moviesList', 'moviesList2')\n",
    "\n",
    "windowSpec  = Window.partitionBy('userId', 'movieId').orderBy(F.col(\"cos_d\").desc())\n",
    "\n",
    "df_user_cos_dist = (df_train.crossJoin(df_)\n",
    "                    .withColumn('cos_d', cos_d_udf(F.col('moviesList'), F.col('moviesList2')))\n",
    "                    .where(F.col('userId')!= F.col('userId2'))\n",
    "                    .drop('moviesList')\n",
    "                    .join(df_test, 'userId', 'inner')\n",
    "                    .withColumn('get_rating', F.col('moviesList2')[F.col('movieId')])\n",
    "                    .where(F.col('get_rating').isNotNull())\n",
    "                    .drop('moviesList2')\n",
    "                    .withColumn('rank', F.row_number().over(windowSpec))\n",
    "                    .where(F.col('rank') <= 20)\n",
    "                    .drop('rank')\n",
    "                )\n",
    "df_user_cos_dist.show()"
   ]
  },
  {
   "cell_type": "code",
   "execution_count": 14,
   "metadata": {
    "colab": {
     "base_uri": "https://localhost:8080/"
    },
    "id": "6ulWymg2IKMe",
    "outputId": "3fbc4486-4507-46d9-f253-ea2156971c95"
   },
   "outputs": [
    {
     "name": "stdout",
     "output_type": "stream",
     "text": [
      "+------+-------+------------------+\n",
      "|userId|movieId|           rating2|\n",
      "+------+-------+------------------+\n",
      "|    15|     14|3.7382511080398597|\n",
      "|    15|   1199| 4.104534220200255|\n",
      "|    15|   2060|   3.4447239173068|\n",
      "|    15|   2387|2.6884732199212102|\n",
      "|    15|   2594| 4.322899533099972|\n",
      "|    15|   3527| 3.651757358898742|\n",
      "|    15|   5346|               4.0|\n",
      "|    17|   2010|3.8577420784861682|\n",
      "|    18|     95|3.3703772857732517|\n",
      "|    20|  64285|3.2191591708779668|\n",
      "|    28|   1296| 4.014901619792919|\n",
      "|    30|    590|3.4269470341414867|\n",
      "|    30|   4710|               3.0|\n",
      "|    30|   5961|               3.0|\n",
      "|    47|     32| 3.890203444327218|\n",
      "|    51|   2683|3.2430378070725476|\n",
      "|    56|  71535| 3.427177162139523|\n",
      "|    56|  79132| 3.959046381827814|\n",
      "|    56| 103279|               3.0|\n",
      "|    58|    940| 4.371149082025971|\n",
      "+------+-------+------------------+\n",
      "only showing top 20 rows\n",
      "\n"
     ]
    }
   ],
   "source": [
    "#получаем рейтинг исходя из косинусного расстояния\n",
    "df_rating2 = (df_user_cos_dist.withColumn('umn', F.col('cos_d') * F.col('get_rating'))\n",
    "          .groupBy('userId', 'movieId')\n",
    "          .agg(F.sum(F.col('umn')), F.sum(F.col('cos_d')))\n",
    "          .withColumn('rating2', F.col('sum(umn)') / F.col('sum(cos_d)'))\n",
    "          .drop('sum(umn)', 'sum(cos_d)')\n",
    "        )\n",
    "df_rating2.show()"
   ]
  },
  {
   "cell_type": "code",
   "execution_count": 15,
   "metadata": {},
   "outputs": [
    {
     "name": "stdout",
     "output_type": "stream",
     "text": [
      "+--------+------------------+\n",
      "|movieId1|             avg_r|\n",
      "+--------+------------------+\n",
      "|    1784|3.7916666666666665|\n",
      "|     926| 4.425925925925926|\n",
      "|   54503|3.8823529411764706|\n",
      "|     377|             3.596|\n",
      "|     165|  3.38659793814433|\n",
      "|     380|3.5186567164179103|\n",
      "|    3066|3.2142857142857144|\n",
      "|    3418| 3.533333333333333|\n",
      "|    7502|            4.3125|\n",
      "|    3996|  3.77027027027027|\n",
      "|     569|              2.25|\n",
      "|     457|3.9044585987261144|\n",
      "|   42418|              3.75|\n",
      "|    2401|              3.75|\n",
      "|    7943|               4.5|\n",
      "|    7059|               3.5|\n",
      "|   54190|               3.4|\n",
      "|    1097| 3.730088495575221|\n",
      "|   74416|              4.25|\n",
      "|   53322|              3.25|\n",
      "+--------+------------------+\n",
      "only showing top 20 rows\n",
      "\n"
     ]
    }
   ],
   "source": [
    "#для каждого фильма получаем средню оценку\n",
    "df_sred = (df_train_without_group.groupBy('movieId')\n",
    "           .agg(F.avg(F.col('rating')))\n",
    "           .withColumnRenamed('avg(rating)', 'avg_r')\n",
    "           .withColumnRenamed('movieId', 'movieId1')\n",
    "          )\n",
    "df_sred.show()"
   ]
  },
  {
   "cell_type": "code",
   "execution_count": 16,
   "metadata": {},
   "outputs": [
    {
     "name": "stdout",
     "output_type": "stream",
     "text": [
      "+-------+--------------------+\n",
      "|movieId|              razd_g|\n",
      "+-------+--------------------+\n",
      "|      1|[Adventure, Anima...|\n",
      "|      2|[Adventure, Child...|\n",
      "|      3|   [Comedy, Romance]|\n",
      "|      4|[Comedy, Drama, R...|\n",
      "|      5|            [Comedy]|\n",
      "|      6|[Action, Crime, T...|\n",
      "|      7|   [Comedy, Romance]|\n",
      "|      8|[Adventure, Child...|\n",
      "|      9|            [Action]|\n",
      "|     10|[Action, Adventur...|\n",
      "|     11|[Comedy, Drama, R...|\n",
      "|     12|    [Comedy, Horror]|\n",
      "|     13|[Adventure, Anima...|\n",
      "|     14|             [Drama]|\n",
      "|     15|[Action, Adventur...|\n",
      "|     16|      [Crime, Drama]|\n",
      "|     17|    [Drama, Romance]|\n",
      "|     18|            [Comedy]|\n",
      "|     19|            [Comedy]|\n",
      "|     20|[Action, Comedy, ...|\n",
      "+-------+--------------------+\n",
      "only showing top 20 rows\n",
      "\n"
     ]
    }
   ],
   "source": [
    "#для каждого фильма получаем список жанров\n",
    "df01 = df_movies.withColumn('razd_g', F.split(F.col('genres'), '\\|')).drop('title', 'genres')\n",
    "df01.show()"
   ]
  },
  {
   "cell_type": "code",
   "execution_count": 17,
   "metadata": {},
   "outputs": [
    {
     "name": "stdout",
     "output_type": "stream",
     "text": [
      "+--------+--------------------+-------+--------------------+\n",
      "|movieId2|             razd_g2|movieId|              razd_g|\n",
      "+--------+--------------------+-------+--------------------+\n",
      "|    1784|[Comedy, Drama, R...|      1|[Adventure, Anima...|\n",
      "|    1784|[Comedy, Drama, R...|      2|[Adventure, Child...|\n",
      "|    1784|[Comedy, Drama, R...|      3|   [Comedy, Romance]|\n",
      "|    1784|[Comedy, Drama, R...|      4|[Comedy, Drama, R...|\n",
      "|    1784|[Comedy, Drama, R...|      5|            [Comedy]|\n",
      "|    1784|[Comedy, Drama, R...|      6|[Action, Crime, T...|\n",
      "|    1784|[Comedy, Drama, R...|      7|   [Comedy, Romance]|\n",
      "|    1784|[Comedy, Drama, R...|      8|[Adventure, Child...|\n",
      "|    1784|[Comedy, Drama, R...|      9|            [Action]|\n",
      "|    1784|[Comedy, Drama, R...|     10|[Action, Adventur...|\n",
      "|    1784|[Comedy, Drama, R...|     11|[Comedy, Drama, R...|\n",
      "|    1784|[Comedy, Drama, R...|     12|    [Comedy, Horror]|\n",
      "|    1784|[Comedy, Drama, R...|     13|[Adventure, Anima...|\n",
      "|    1784|[Comedy, Drama, R...|     14|             [Drama]|\n",
      "|    1784|[Comedy, Drama, R...|     15|[Action, Adventur...|\n",
      "|    1784|[Comedy, Drama, R...|     16|      [Crime, Drama]|\n",
      "|    1784|[Comedy, Drama, R...|     17|    [Drama, Romance]|\n",
      "|    1784|[Comedy, Drama, R...|     18|            [Comedy]|\n",
      "|    1784|[Comedy, Drama, R...|     19|            [Comedy]|\n",
      "|    1784|[Comedy, Drama, R...|     20|[Action, Comedy, ...|\n",
      "+--------+--------------------+-------+--------------------+\n",
      "only showing top 20 rows\n",
      "\n"
     ]
    }
   ],
   "source": [
    "#соединяем жанры для фильмов про которых мы занем оценки со всеми фильмами\n",
    "df_ = df01.join(df_sred, F.col('movieId') == F.col('movieId1'), 'inner').drop('avg_r', 'movieId1').withColumnRenamed('razd_g', 'razd_g2').withColumnRenamed('movieId', 'movieId2')\n",
    "df_gen = df_.crossJoin(df01)\n",
    "df_gen.show()"
   ]
  },
  {
   "cell_type": "code",
   "execution_count": 18,
   "metadata": {
    "collapsed": true
   },
   "outputs": [],
   "source": [
    "def cos_distance_gen(x1, x2):\n",
    "  chisl = sum([1 for i in x1 if i in x2])\n",
    "  znam1 = sum([1 for i in x1]) ** 0.5\n",
    "  znam2 = sum([1 for i in x2]) ** 0.5\n",
    "  return chisl / (znam1 * znam2)\n",
    "\n",
    "cos_d_gen_udf = F.udf(cos_distance_gen, T.FloatType())"
   ]
  },
  {
   "cell_type": "code",
   "execution_count": 19,
   "metadata": {},
   "outputs": [
    {
     "name": "stdout",
     "output_type": "stream",
     "text": [
      "+--------+-------+-------+-----+----+\n",
      "|movieId2|razd_g2|movieId|cos_d|rank|\n",
      "+--------+-------+-------+-----+----+\n",
      "|     926|[Drama]|    148|  1.0|   1|\n",
      "|   74416|[Drama]|    148|  1.0|   2|\n",
      "|    1961|[Drama]|    148|  1.0|   3|\n",
      "|    1103|[Drama]|    148|  1.0|   4|\n",
      "|    3451|[Drama]|    148|  1.0|   5|\n",
      "|    4211|[Drama]|    148|  1.0|   6|\n",
      "|    5810|[Drama]|    148|  1.0|   7|\n",
      "|    2757|[Drama]|    148|  1.0|   8|\n",
      "|     147|[Drama]|    148|  1.0|   9|\n",
      "|     354|[Drama]|    148|  1.0|  10|\n",
      "|    3949|[Drama]|    148|  1.0|  11|\n",
      "|    3098|[Drama]|    148|  1.0|  12|\n",
      "|  106766|[Drama]|    148|  1.0|  13|\n",
      "|    2188|[Drama]|    148|  1.0|  14|\n",
      "|    3089|[Drama]|    148|  1.0|  15|\n",
      "|    1293|[Drama]|    148|  1.0|  16|\n",
      "|    1955|[Drama]|    148|  1.0|  17|\n",
      "|     331|[Drama]|    148|  1.0|  18|\n",
      "|    7234|[Drama]|    148|  1.0|  19|\n",
      "|   27815|[Drama]|    148|  1.0|  20|\n",
      "+--------+-------+-------+-----+----+\n",
      "only showing top 20 rows\n",
      "\n"
     ]
    }
   ],
   "source": [
    "#Считаем косинусное расстояние между фильмами и оставляем 20 лучших для кадого фильма\n",
    "windowSpec  = Window.partitionBy('movieId').orderBy(F.col(\"cos_d\").desc())\n",
    "\n",
    "df_cos_d_movie = (df_gen.withColumn('cos_d', cos_d_gen_udf(F.col('razd_g2'), F.col('razd_g')))\n",
    "                  .where(F.col('movieId')!= F.col('movieId2'))\n",
    "                  .drop('razd_g')\n",
    "                  .withColumn('rank', F.row_number().over(windowSpec))\n",
    "                  .where((F.col('rank') <= 20))\n",
    "                  \n",
    "         )\n",
    "df_cos_d_movie.show()"
   ]
  },
  {
   "cell_type": "code",
   "execution_count": 20,
   "metadata": {},
   "outputs": [
    {
     "name": "stdout",
     "output_type": "stream",
     "text": [
      "+-------+-------+-------+\n",
      "|movieId|userId1|rating1|\n",
      "+-------+-------+-------+\n",
      "|   8903|    547|    3.5|\n",
      "| 101904|    547|    3.5|\n",
      "| 122490|    624|    1.5|\n",
      "|  98908|    624|    1.5|\n",
      "|   3025|    575|    3.0|\n",
      "|  47404|     48|    4.0|\n",
      "|    681|    492|    3.0|\n",
      "|   7914|    468|    4.0|\n",
      "|   4426|    547|    4.0|\n",
      "|  67361|    624|    2.0|\n",
      "|  26180|    547|    3.5|\n",
      "|  31026|    294|    4.5|\n",
      "| 107314|    563|    4.0|\n",
      "|  55250|    624|    2.0|\n",
      "| 111680|    624|    1.5|\n",
      "|  25898|    529|    3.5|\n",
      "|  33495|    353|    1.5|\n",
      "| 113220|    547|    3.0|\n",
      "|  91483|    522|    1.5|\n",
      "|   5125|     30|    2.0|\n",
      "+-------+-------+-------+\n",
      "only showing top 20 rows\n",
      "\n"
     ]
    }
   ],
   "source": [
    "#получаем всех пользователей с фильмами которые никто не оценил в обучающей выборке\n",
    "df_test_without_movie_rating = (\n",
    "    df_test.withColumnRenamed('userId', 'userId1')\n",
    "          .withColumnRenamed('rating', 'rating1')\n",
    "          .drop('timestamp', 'rank')\n",
    "          .join(df_train_without_group, 'movieId', 'left')\n",
    "          .where(F.col('userId').isNull())\n",
    "          .drop('timestamp', 'rank', 'userId', 'rating', 'timestamp', 'rank')\n",
    "    )\n",
    "df_test_without_movie_rating.show()"
   ]
  },
  {
   "cell_type": "code",
   "execution_count": 21,
   "metadata": {},
   "outputs": [
    {
     "name": "stdout",
     "output_type": "stream",
     "text": [
      "+-------+-------+-------+\n",
      "|userId1|movieId|rating1|\n",
      "+-------+-------+-------+\n",
      "+-------+-------+-------+\n",
      "\n"
     ]
    }
   ],
   "source": [
    "#получаем всех пользователей, которые не поставили не одной оценки в обучающей выборке\n",
    "df_test_without_user_rating = (\n",
    "    df_test.withColumnRenamed('movieId', 'movieId1')\n",
    "          .withColumnRenamed('rating', 'rating1')\n",
    "          .drop('timestamp', 'rank')\n",
    "          .join(df_train_without_group, 'userId', 'left')\n",
    "          .where(F.col('movieId').isNull())\n",
    "          .drop('timestamp', 'rank', 'movieId', 'rating', 'timestamp', 'rank')\n",
    "          .withColumnRenamed('userId', 'userId1')\n",
    "          .withColumnRenamed('movieId1', 'movieId')\n",
    "    )\n",
    "df_test_without_user_rating.show()"
   ]
  },
  {
   "cell_type": "code",
   "execution_count": 22,
   "metadata": {},
   "outputs": [
    {
     "name": "stdout",
     "output_type": "stream",
     "text": [
      "+-------+-------+-------+\n",
      "|movieId|userId1|rating1|\n",
      "+-------+-------+-------+\n",
      "|   6797|    311|    3.5|\n",
      "|   3879|     12|    5.0|\n",
      "|   8504|    654|    4.5|\n",
      "|   4837|    105|    3.5|\n",
      "|   6186|     30|    2.0|\n",
      "| 152079|     15|    1.5|\n",
      "|  52617|     81|    5.0|\n",
      "|   6022|    648|    4.0|\n",
      "|  25965|    547|    2.0|\n",
      "|   6143|    624|    2.0|\n",
      "|  42900|    299|    5.0|\n",
      "|  26810|    299|    4.5|\n",
      "|   5672|    353|    0.5|\n",
      "|  27544|    623|    4.0|\n",
      "|  26025|    394|    0.5|\n",
      "|   7958|    547|    3.5|\n",
      "|   2219|    102|    4.0|\n",
      "|   4684|    547|    0.5|\n",
      "|   8999|    294|    4.0|\n",
      "|   4565|    346|    5.0|\n",
      "+-------+-------+-------+\n",
      "only showing top 20 rows\n",
      "\n"
     ]
    }
   ],
   "source": [
    "#объединяем эти две таблицы, удаляя дубликаты\n",
    "df_without_rating = df_test_without_movie_rating.union(df_test_without_user_rating).distinct()\n",
    "df_without_rating.show()"
   ]
  },
  {
   "cell_type": "code",
   "execution_count": 23,
   "metadata": {},
   "outputs": [
    {
     "name": "stdout",
     "output_type": "stream",
     "text": [
      "+-------+------------------+\n",
      "|movieId|           rating2|\n",
      "+-------+------------------+\n",
      "|    148| 3.697825698629255|\n",
      "|    463|3.6640213422133145|\n",
      "|    471|3.1656652868467696|\n",
      "|    496| 3.513623688392196|\n",
      "|    833|3.1656652868467696|\n",
      "|   1088| 3.073488930659983|\n",
      "|   1238|3.1656652868467696|\n",
      "|   1342|2.8778155623472967|\n",
      "|   1580| 2.992637346312318|\n",
      "|   1591|  3.45064905063004|\n",
      "|   1645|3.5298667887660238|\n",
      "|   1959|3.7732543768655042|\n",
      "|   2122|2.8778155623472967|\n",
      "|   2142| 3.547459462305487|\n",
      "|   2366| 3.116999900582968|\n",
      "|   2659|3.6957738095238093|\n",
      "|   2866| 3.697825698629255|\n",
      "|   3175| 3.260484363955824|\n",
      "|   3794| 3.647112901879692|\n",
      "|   3918|3.0683396464646466|\n",
      "+-------+------------------+\n",
      "only showing top 20 rows\n",
      "\n"
     ]
    }
   ],
   "source": [
    "#считаем рейтинг для фильмов\n",
    "df_rating_movie2 = (\n",
    "    df_sred.join(df_cos_d_movie, F.col('movieId1')==F.col('movieId2'), 'inner')\n",
    "    .drop('razd_g2', 'movieId1')\n",
    "    .withColumn('umn', F.col('cos_d') * F.col('avg_r'))\n",
    "    .groupBy('movieId')\n",
    "    .agg(F.sum(F.col('umn')), F.sum(F.col('cos_d')))\n",
    "    .withColumn('rating2', F.col('sum(umn)') / F.col('sum(cos_d)'))\n",
    "    .drop('sum(umn)', 'sum(cos_d)')\n",
    ")\n",
    "df_rating_movie2.show()"
   ]
  },
  {
   "cell_type": "code",
   "execution_count": 24,
   "metadata": {},
   "outputs": [
    {
     "name": "stdout",
     "output_type": "stream",
     "text": [
      "+-------+------+------+------------------+--------------------+\n",
      "|movieId|userId|rating|           rating2|                razn|\n",
      "+-------+------+------+------------------+--------------------+\n",
      "|   1990|   564|   3.0|3.0683396464646466|0.004670307278912889|\n",
      "|  50954|   255|   3.5|3.3065127241116414| 0.03743732593069778|\n",
      "|  50954|   599|   4.0|3.3065127241116414| 0.48092460181905633|\n",
      "|   1322|   564|   3.0|3.0683396464646466|0.004670307278912889|\n",
      "|   1322|    95|   2.0|3.0683396464646466|  1.1413496002082062|\n",
      "|   4391|   388|   4.0| 3.697825698629255| 0.09130930840889794|\n",
      "|   8257|   468|   3.0|3.5957151248462216| 0.35487650997054937|\n",
      "|  50792|   624|   2.5|3.7019077227772987|   1.444582174071712|\n",
      "|  55498|   371|   3.5| 3.333824312166098|0.027614359227070378|\n",
      "|    137|   564|   1.0|3.8306168581912465|   8.012391797876484|\n",
      "|   4684|   547|   0.5|3.1656652868467696|    7.10577142149987|\n",
      "|   5223|   598|   1.0| 3.647112901879692|   7.007206715297925|\n",
      "|  26736|    73|   4.0|3.2689821712258635|  0.5343870659856527|\n",
      "| 111680|   624|   1.5|3.3065127241116414|  3.2634882223772634|\n",
      "|   3377|   547|   3.5| 3.955398111356783| 0.20738743982732502|\n",
      "|  51127|   428|   4.5|3.8306168581912465| 0.44807379053775775|\n",
      "|  65037|    48|   5.0| 3.697825698629255|  1.6956579111503882|\n",
      "| 115534|    48|   2.0|3.0683396464646466|  1.1413496002082062|\n",
      "| 135268|   652|   4.0|2.9089306856071158|  1.1904322488097585|\n",
      "|     53|   344|   5.0|3.7848107863780855|  1.4766848249030469|\n",
      "+-------+------+------+------------------+--------------------+\n",
      "only showing top 20 rows\n",
      "\n"
     ]
    }
   ],
   "source": [
    "#Считаем квадрат расхождения с реальными оценками\n",
    "df_razn_rating = (\n",
    "    df_without_rating.join(df_rating_movie2, 'movieId', 'inner')\n",
    "    .withColumnRenamed('userId1', 'userId')\n",
    "    .withColumnRenamed('rating1', 'rating')\n",
    "    .withColumn('razn', F.pow(F.col('rating2') - F.col('rating'), 2))\n",
    ")\n",
    "df_razn_rating.show()"
   ]
  },
  {
   "cell_type": "code",
   "execution_count": 25,
   "metadata": {
    "colab": {
     "base_uri": "https://localhost:8080/"
    },
    "id": "Hu__d3NlLglo",
    "outputId": "a02d6c14-ef32-43a4-ce68-5836d2fe0b35"
   },
   "outputs": [
    {
     "name": "stdout",
     "output_type": "stream",
     "text": [
      "+------------------+------+-------+------+--------------------+\n",
      "|           rating2|userId|movieId|rating|                razn|\n",
      "+------------------+------+-------+------+--------------------+\n",
      "|3.7382511080398597|    15|     14|   2.5|  1.5332658065619404|\n",
      "| 4.104534220200255|    15|   1199|   1.0|   9.638132724394403|\n",
      "|   3.4447239173068|    15|   2060|   2.0|  2.0872271972383056|\n",
      "|2.6884732199212102|    15|   2387|   3.5|  0.6585757147850484|\n",
      "| 4.322899533099972|    15|   2594|   4.0| 0.10426410847617977|\n",
      "| 3.651757358898742|    15|   3527|   3.0|  0.4247876548786638|\n",
      "|               4.0|    15|   5346|   3.5|                0.25|\n",
      "|3.8577420784861682|    17|   2010|   5.0|   1.304753159261099|\n",
      "|3.3703772857732517|    18|     95|   3.0| 0.13717933381676095|\n",
      "|3.2191591708779668|    20|  64285|   5.0|  3.1713940586680507|\n",
      "| 4.014901619792919|    28|   1296|   5.0|  0.9704188186866142|\n",
      "|3.4269470341414867|    30|    590|   5.0|   2.474495633396265|\n",
      "|               3.0|    30|   4710|   4.0|                 1.0|\n",
      "|               3.0|    30|   5961|   4.0|                 1.0|\n",
      "| 3.890203444327218|    47|     32|   4.0|0.012055283637606272|\n",
      "|3.2430378070725476|    51|   2683|   4.0|  0.5729917615215376|\n",
      "| 3.427177162139523|    56|  71535|   4.0| 0.32812600357453026|\n",
      "| 3.959046381827814|    56|  79132|   5.0|   1.083584435185765|\n",
      "|               3.0|    56| 103279|   4.0|                 1.0|\n",
      "| 4.371149082025971|    58|    940|   2.0|   5.622347969192604|\n",
      "+------------------+------+-------+------+--------------------+\n",
      "only showing top 20 rows\n",
      "\n"
     ]
    }
   ],
   "source": [
    "#счиатем квадрат расхождения для пользователей, которые сами ставили оценки, на фильмы которые кто-то оценил\n",
    "df_result = (df_rating2.withColumnRenamed('userId', 'userId2')\n",
    "          .withColumnRenamed('movieId', 'movieId2')\n",
    "          .join(df_test, \n",
    "                (F.col('userId') == F.col('userId2')) & (F.col('movieId') == F.col('movieId2')), \n",
    "                'inner')\n",
    "          .withColumn('razn', F.pow(F.col('rating2') - F.col('rating'), 2))\n",
    "          .drop('userId2', 'movieId2', 'rating_list', 'timestamp', 'rank')\n",
    "            )\n",
    "df_result.show()"
   ]
  },
  {
   "cell_type": "code",
   "execution_count": 26,
   "metadata": {},
   "outputs": [
    {
     "name": "stdout",
     "output_type": "stream",
     "text": [
      "+--------+------+------+------------------+--------------------+\n",
      "| movieId|userId|rating|           rating2|                razn|\n",
      "+--------+------+------+------------------+--------------------+\n",
      "|  1990.0|   564|   3.0|3.0683396464646466|0.004670307278912889|\n",
      "| 50954.0|   599|   4.0|3.3065127241116414| 0.48092460181905633|\n",
      "| 50954.0|   255|   3.5|3.3065127241116414| 0.03743732593069778|\n",
      "|  1322.0|    95|   2.0|3.0683396464646466|  1.1413496002082062|\n",
      "|  1322.0|   564|   3.0|3.0683396464646466|0.004670307278912889|\n",
      "|  4391.0|   388|   4.0| 3.697825698629255| 0.09130930840889794|\n",
      "|  8257.0|   468|   3.0|3.5957151248462216| 0.35487650997054937|\n",
      "| 50792.0|   624|   2.5|3.7019077227772987|   1.444582174071712|\n",
      "| 55498.0|   371|   3.5| 3.333824312166098|0.027614359227070378|\n",
      "|   137.0|   564|   1.0|3.8306168581912465|   8.012391797876484|\n",
      "|  4684.0|   547|   0.5|3.1656652868467696|    7.10577142149987|\n",
      "|  5223.0|   598|   1.0| 3.647112901879692|   7.007206715297925|\n",
      "| 26736.0|    73|   4.0|3.2689821712258635|  0.5343870659856527|\n",
      "|111680.0|   624|   1.5|3.3065127241116414|  3.2634882223772634|\n",
      "|  3377.0|   547|   3.5| 3.955398111356783| 0.20738743982732502|\n",
      "| 51127.0|   428|   4.5|3.8306168581912465| 0.44807379053775775|\n",
      "| 65037.0|    48|   5.0| 3.697825698629255|  1.6956579111503882|\n",
      "|115534.0|    48|   2.0|3.0683396464646466|  1.1413496002082062|\n",
      "|135268.0|   652|   4.0|2.9089306856071158|  1.1904322488097585|\n",
      "|    53.0|   344|   5.0|3.7848107863780855|  1.4766848249030469|\n",
      "+--------+------+------+------------------+--------------------+\n",
      "only showing top 20 rows\n",
      "\n"
     ]
    }
   ],
   "source": [
    "#объединяем эти две таблицы\n",
    "df_union_rating = df_razn_rating.union(df_result)\n",
    "df_union_rating.show()"
   ]
  },
  {
   "cell_type": "code",
   "execution_count": 27,
   "metadata": {
    "colab": {
     "base_uri": "https://localhost:8080/"
    },
    "id": "x-Egso5VMMNz",
    "outputId": "71c486d1-da04-4e67-8b81-66b122dcdf66"
   },
   "outputs": [
    {
     "name": "stdout",
     "output_type": "stream",
     "text": [
      "+-------------------------+\n",
      "|SQRT((sum(razn) / 30002))|\n",
      "+-------------------------+\n",
      "|       0.9713346740199191|\n",
      "+-------------------------+\n",
      "\n"
     ]
    }
   ],
   "source": [
    "#высчитываем rmse\n",
    "count_row = df_union_rating.count()\n",
    "df_mser = df_result.select(F.sqrt(F.sum(F.col('razn'))/count_row)).alias('mser')\n",
    "df_mser.show()"
   ]
  }
 ],
 "metadata": {
  "colab": {
   "collapsed_sections": [],
   "name": "mobod_dz1.ipynb",
   "provenance": []
  },
  "kernelspec": {
   "display_name": "Python 3",
   "language": "python",
   "name": "python3"
  },
  "language_info": {
   "codemirror_mode": {
    "name": "ipython",
    "version": 3
   },
   "file_extension": ".py",
   "mimetype": "text/x-python",
   "name": "python",
   "nbconvert_exporter": "python",
   "pygments_lexer": "ipython3",
   "version": "3.4.3"
  }
 },
 "nbformat": 4,
 "nbformat_minor": 1
}
